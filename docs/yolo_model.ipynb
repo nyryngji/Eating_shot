{
 "cells": [
  {
   "cell_type": "code",
   "execution_count": 1,
   "metadata": {},
   "outputs": [],
   "source": [
    "import cv2\n",
    "import numpy as np\n",
    "import os\n",
    "from ultralytics import YOLO\n",
    "import shutil\n",
    "from PIL import ImageFont, ImageDraw, Image"
   ]
  },
  {
   "cell_type": "code",
   "execution_count": 4,
   "metadata": {},
   "outputs": [],
   "source": [
    "# 이미지 전처리 하기 전 폴더 내에서 전처리 안된 이미지 확인\n",
    "\n",
    "lst = []\n",
    "for i in os.listdir('E:\\\\food_img2000\\\\train\\\\train'):\n",
    "    if i not in os.listdir('E:\\\\img'):\n",
    "        lst += [i]"
   ]
  },
  {
   "cell_type": "code",
   "execution_count": 2,
   "metadata": {},
   "outputs": [
    {
     "data": {
      "text/plain": [
       "{'albab': 0,\n",
       " 'bibimbab': 1,\n",
       " 'bibimnangmyeon': 2,\n",
       " 'blackkongjorim': 3,\n",
       " 'budaejjigae': 4,\n",
       " 'bulgogi': 5,\n",
       " 'chinamul': 6,\n",
       " 'chongakgimchi': 7,\n",
       " 'creampasta': 8,\n",
       " 'dakkalguksu': 9,\n",
       " 'danjangjjigae': 10,\n",
       " 'donggrangttang': 11,\n",
       " 'dongtaejun': 12,\n",
       " 'donkkasu': 13,\n",
       " 'dububuchim': 14,\n",
       " 'eggguk': 15,\n",
       " 'eggjangjorim': 16,\n",
       " 'eggjjim': 17,\n",
       " 'eggmari': 18,\n",
       " 'emukbokkum': 19,\n",
       " 'emukguk': 20,\n",
       " 'figgimchijjigae': 21,\n",
       " 'galchijorim': 22,\n",
       " 'gamjabokkum': 23,\n",
       " 'ggatipjjangajji': 24,\n",
       " 'gimbab': 25,\n",
       " 'gimbokbab': 26,\n",
       " 'gimchiguk': 27,\n",
       " 'gimchijun': 28,\n",
       " 'gimchimariguksu': 29,\n",
       " 'gogimandu': 30,\n",
       " 'gondrebab': 31,\n",
       " 'gosarinamul': 32,\n",
       " 'gunsaeubokkum': 33,\n",
       " 'haemulpajun': 34,\n",
       " 'hambaksteak': 35,\n",
       " 'hambuchim': 36,\n",
       " 'hobakjun': 37,\n",
       " 'huenangmyeon': 38,\n",
       " 'hunjeduck': 39,\n",
       " 'janchiguksu': 40,\n",
       " 'jinmichaebokkum': 41,\n",
       " 'jjajangmyeon': 42,\n",
       " 'jjamfong': 43,\n",
       " 'jjimdak': 44,\n",
       " 'jjolmyeon': 45,\n",
       " 'jokbal': 46,\n",
       " 'kongguksu': 47,\n",
       " 'makguksu': 48,\n",
       " 'memilguksu': 49,\n",
       " 'miyeokguk': 50,\n",
       " 'mukmuchim': 51,\n",
       " 'mulchibookum': 52,\n",
       " 'mulmandu': 53,\n",
       " 'mulnangmyeon': 54,\n",
       " 'nakjubokkum': 55,\n",
       " 'oilpasta': 56,\n",
       " 'oisobagi': 57,\n",
       " 'ojungubokkum': 58,\n",
       " 'omurice': 59,\n",
       " 'osambulgogi': 60,\n",
       " 'piggalbijjim': 61,\n",
       " 'pigjangjorim': 62,\n",
       " 'rabokki': 63,\n",
       " 'ramyeon': 64,\n",
       " 'sangchugutjeri': 65,\n",
       " 'seafoodkalguksu': 66,\n",
       " 'sigumchi': 67,\n",
       " 'sogogimuguk': 68,\n",
       " 'sogukbab': 69,\n",
       " 'sosigibokkum': 70,\n",
       " 'ssalbab': 71,\n",
       " 'ssalguksu': 72,\n",
       " 'sujebi': 73,\n",
       " 'sukjunamul': 74,\n",
       " 'sundaeguk': 75,\n",
       " 'suyuk': 76,\n",
       " 'tomatopasta': 77,\n",
       " 'tteokgalbi': 78,\n",
       " 'tteokguk': 79,\n",
       " 'tteokmanduguk': 80,\n",
       " 'ydong': 81,\n",
       " 'yeolmuergaligimchi': 82,\n",
       " 'yeolmugimchi': 83,\n",
       " 'yubuchobab': 84}"
      ]
     },
     "execution_count": 2,
     "metadata": {},
     "output_type": "execute_result"
    }
   ],
   "source": [
    "# yolo 모델을 학습하기 위해서는 data.yaml 파일이 필요한데 이 파일 내에 레이블에 대한 내용이 들어있어야 함\n",
    "# 일일이 다 입력하기 귀찮은 관계로 딕셔너리 작업 수행\n",
    "\n",
    "dic = {}\n",
    "x = 0\n",
    "\n",
    "for food in os.listdir('E:\\img'):\n",
    "    dic[food] = x\n",
    "    x += 1\n",
    "\n",
    "dic"
   ]
  },
  {
   "cell_type": "markdown",
   "metadata": {},
   "source": [
    "### 1. 이미지 전처리"
   ]
  },
  {
   "cell_type": "code",
   "execution_count": null,
   "metadata": {},
   "outputs": [],
   "source": [
    "for food_name in lst: # 음식 사진 들어있는 폴더 이름\n",
    "\n",
    "    print(food_name)\n",
    "    \n",
    "    model = YOLO('yolov8s.pt')\n",
    "\n",
    "    folder_name = f'E:\\\\food_img2000\\\\train\\\\train\\\\{food_name}' # 크롭할 이미지가 있는 폴더\n",
    "\n",
    "    file_num = 1\n",
    "\n",
    "    os.makedirs(f'E:\\img\\\\{food_name}') # 전처리한 이미지를 저장할 폴더 생성\n",
    "\n",
    "    for file_name in os.listdir(f'{folder_name}'):\n",
    "        img_name = f'{folder_name}\\\\{file_name}'\n",
    "        img = cv2.imread(img_name)\n",
    "        img = cv2.resize(img,(640,640)) # YOLOv8의 기본 이미지 크기에 맞게 이미지 사이즈 재설정\n",
    "        results = model.predict(img)\n",
    "\n",
    "        try:\n",
    "            a, b, c, d = [int(i) for i in (results[0].boxes.xyxy[0])]\n",
    "            \n",
    "            x1, y1 = a, b\n",
    "            x2, y2 = c, d\n",
    "\n",
    "            x1, x2 = min(a, c), max(a, c)\n",
    "            y1, y2 = min(b, d), max(b, d)\n",
    "\n",
    "            cropped_img = img[y1+2:y2-2, x1+2:x2-2] # 이미지 내 객체만 추출\n",
    "            cropped_img_path = f'E:\\img\\{food_name}\\\\{food_name}_{file_num}.jpg' # 크롭한 이미지가 저장될 폴더 + 이미지 이름\n",
    "\n",
    "            cv2.imwrite(cropped_img_path, cropped_img) # 크롭한 이미지 저장\n",
    "            file_num += 1\n",
    "        except:\n",
    "            continue"
   ]
  },
  {
   "cell_type": "markdown",
   "metadata": {},
   "source": [
    "### 2. yolov8 모델을 학습시키기 위해 이미지를 다른 폴더로 이동"
   ]
  },
  {
   "cell_type": "code",
   "execution_count": 6,
   "metadata": {},
   "outputs": [],
   "source": [
    "# 기존 폴더에서 다른 폴더로 이미지를 이동\n",
    "import os\n",
    "import random\n",
    "import shutil\n",
    "\n",
    "for food in os.listdir('E:\\img'):\n",
    "\n",
    "# 원본 폴더 경로\n",
    "    source_folder = f'E:\\\\img\\\\{food}'\n",
    "    # 대상 폴더 경로\n",
    "    destination_folder = f'E:\\yolov8\\datasets\\\\train\\\\images'\n",
    "\n",
    "    # 원본 폴더에서 파일 목록 가져오기\n",
    "    all_files = os.listdir(source_folder)\n",
    "\n",
    "    selected_files = all_files[:600]\n",
    "\n",
    "    # 선택한 파일을 대상 폴더로 이동\n",
    "    for file_name in selected_files:\n",
    "        source_path = os.path.join(source_folder, file_name)\n",
    "        destination_path = os.path.join(destination_folder, file_name)\n",
    "        shutil.copy(source_path, destination_path)\n",
    "        f = file_name.split('.')[0] + '.txt' \n",
    "        with open(f'E:\\yolov8\\datasets\\\\train\\labels\\\\{f}','w+') as file:\n",
    "            file.write(' '.join(list(map(str,[dic[food], 0.5, 0.5, 1,1]))))"
   ]
  },
  {
   "cell_type": "markdown",
   "metadata": {},
   "source": [
    "### 3. yaml 파일 생성하기"
   ]
  },
  {
   "cell_type": "code",
   "execution_count": null,
   "metadata": {},
   "outputs": [],
   "source": [
    "import yaml\n",
    "\n",
    "data = {\n",
    "    \"train\" : '/datasets/train/',\n",
    "        \"val\" : '/datasets/val/',\n",
    "        \"names\" : dic}\n",
    "\n",
    "with open('./data.yaml', 'w') as f :\n",
    "    yaml.dump(data, f)\n",
    "\n",
    "with open('./data.yaml', 'r') as f :\n",
    "    lines = yaml.safe_load(f)\n",
    "    print(lines)"
   ]
  },
  {
   "cell_type": "markdown",
   "metadata": {},
   "source": [
    "### 4. 모델 학습하기\n",
    "\n",
    "- mAP@0.5에서 91.1%의 성능 달성"
   ]
  },
  {
   "cell_type": "code",
   "execution_count": null,
   "metadata": {},
   "outputs": [],
   "source": [
    "model = YOLO('yolov8s.pt') # 사전학습된 모델 로드"
   ]
  },
  {
   "cell_type": "code",
   "execution_count": null,
   "metadata": {},
   "outputs": [],
   "source": [
    "import torch\n",
    "\n",
    "# cuda memory 비우기 -> 메모리에 쌓이면 모델을 학습할 수가 없음\n",
    "torch.cuda.empty_cache()\n",
    "torch.cuda.memory_summary()"
   ]
  },
  {
   "cell_type": "code",
   "execution_count": null,
   "metadata": {},
   "outputs": [],
   "source": [
    "model.train(\n",
    "  data='data.yaml',\n",
    "  epochs=12,     # 더 많은 에포크로 학습\n",
    "  patience=5,    # 성능 개선이 없는 에포크 수를 늘려 더 많은 기회 제공\n",
    "  batch=64     # 배치 크기를 늘려 학습 속도 향상 -> 32로 하면 학습속도가 느려짐\n",
    ")"
   ]
  },
  {
   "cell_type": "code",
   "execution_count": null,
   "metadata": {},
   "outputs": [],
   "source": [
    "model.save('model_last.pt')"
   ]
  },
  {
   "cell_type": "markdown",
   "metadata": {},
   "source": [
    "### 5. 모델을 기반으로 예측 수행하기\n",
    "\n",
    "- 기존 유사 서비스에 대한 차별성을 위해 당뇨병 환자에게 좋지 않은 음식인 경우 붉은색 글씨로 사진 위에 레이블 표기"
   ]
  },
  {
   "cell_type": "code",
   "execution_count": 1,
   "metadata": {},
   "outputs": [
    {
     "name": "stdout",
     "output_type": "stream",
     "text": [
      "\n",
      "0: 640x640 1 , 907.0ms\n",
      "Speed: 16.0ms preprocess, 907.0ms inference, 18.0ms postprocess per image at shape (1, 3, 640, 640)\n"
     ]
    }
   ],
   "source": [
    "model = YOLO('model_last.pt') # 모델 불러오기 \n",
    "image = cv2.imread(\"./test1.png\", cv2.IMREAD_COLOR)\n",
    "image = cv2.resize(image,(640,640))\n",
    "result = model.predict(source=image)[0] \n",
    "label = result.boxes.cls # 모델이 예측한 레이블 결과 ex) 30, 11, 2, 15\n",
    "warning = [8,13] # 당뇨병 환자에게 위험한 음식의 레이블\n",
    "fontpath = \"E:\\\\yolov8\\\\Pretendard-Bold.ttf\"\n",
    "font = ImageFont.truetype(fontpath, 30)\n",
    "\n",
    "for i in range(len(result.boxes.xyxy)):\n",
    "    x = int((result.boxes.xyxy[i][0] + result.boxes.xyxy[i][2]) / 2) # 인식한 객체의 바운딩 박스 가로 정가운데\n",
    "    y = int((result.boxes.xyxy[i][1] + result.boxes.xyxy[i][3]) / 2) # 인식한 객체의 바운딩 박스 세로 정가운데\n",
    "\n",
    "    pred_result = result.names[int(label[i])] # 음식 목록에서 모델이 예측한 레이블에 해당하는 값 가져오기\n",
    "    # ex) 미역국\n",
    "\n",
    "    overlay = image.copy()\n",
    "    left, top, right, bottom = font.getbbox(pred_result)\n",
    "    width = right - left\n",
    "    height = bottom - top\n",
    "    text_size = [width,height] # 텍스트 가로, 세로 길이\n",
    "\n",
    "    cv2.rectangle(overlay, (x-(text_size[0]//2 + 5),y-(text_size[1]//2 + 5)), (x+(text_size[0]//2 + 5),y+(text_size[1]//2 + 10)), (0, 0, 0), -1)  # 검정색 배경\n",
    "    alpha = 0.6  # 투명도 설정\n",
    "    # 텍스트 크기 기반으로 텍스트에 맞춰서 불투명 사각형 생성\n",
    "    cv2.addWeighted(overlay, alpha, image, 1 - alpha, 0, image)\n",
    "    \n",
    "    img_pil = Image.fromarray(cv2.cvtColor(image, cv2.COLOR_BGR2RGB))  # OpenCV 이미지를 PIL 이미지로 변환\n",
    "    draw = ImageDraw.Draw(img_pil)\n",
    "    if label[i] in warning: # 만약 음식을 인식했는데 당뇨병 환자에게 좋지 않은 음식이라면\n",
    "        draw.text((x - (text_size[0] // 2), y - (text_size[1] // 2)), pred_result, font=font, fill=(255, 0, 0))\n",
    "        # 붉은 색으로 한글 텍스트 표시\n",
    "    else:\n",
    "        draw.text((x - (text_size[0] // 2), y - (text_size[1] // 2)), pred_result, font=font, fill=(255, 255, 255)) \n",
    "\n",
    "\n",
    "    # PIL 이미지를 다시 OpenCV 이미지로 변환\n",
    "    image = cv2.cvtColor(np.array(img_pil), cv2.COLOR_RGB2BGR)\n",
    "    \n",
    "cv2.imshow('draw',image)\n",
    "cv2.waitKey(0)\n",
    "cv2.destroyAllWindows()"
   ]
  }
 ],
 "metadata": {
  "kernelspec": {
   "display_name": "Python 3 (ipykernel)",
   "language": "python",
   "name": "python3"
  },
  "language_info": {
   "codemirror_mode": {
    "name": "ipython",
    "version": 3
   },
   "file_extension": ".py",
   "mimetype": "text/x-python",
   "name": "python",
   "nbconvert_exporter": "python",
   "pygments_lexer": "ipython3",
   "version": "3.10.11"
  }
 },
 "nbformat": 4,
 "nbformat_minor": 4
}
