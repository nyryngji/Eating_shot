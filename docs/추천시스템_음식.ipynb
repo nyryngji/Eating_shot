{
 "cells": [
  {
   "cell_type": "code",
   "execution_count": 25,
   "metadata": {},
   "outputs": [],
   "source": [
    "import pandas as pd \n",
    "\n",
    "df = pd.read_csv(\"food_recommed.csv\")\n",
    "df['해산물'] =  pd.to_numeric(df['해산물'])\n",
    "\n",
    "user_input = {\n",
    "        \"remaining_calories\": 520,\n",
    "        \"remaining_carbs\": 50,\n",
    "        \"remaining_protein\": 20,\n",
    "        \"remaining_fat\": 15,\n",
    "        \"meat_count\": 2,\n",
    "        \"veg_count\": 1,\n",
    "        \"seafood_count\": 0}\n",
    "\n",
    "# [하루 권장 칼로리 - 현재 섭취 칼로리, 섭취가능 탄수화물량, 섭취가능 단백질량, 섭취가능 지방량, 고기 섭취 횟수,채소 섭취 횟수,해산물 섭취 횟수]"
   ]
  },
  {
   "cell_type": "code",
   "execution_count": 26,
   "metadata": {},
   "outputs": [],
   "source": [
    "max_count = max_count = max(user_input[\"meat_count\"], user_input[\"veg_count\"], user_input[\"seafood_count\"]) \n",
    "# 고기, 채소, 해산물 섭취 횟수 중 가장 많이 섭취한 횟수\n",
    "\n",
    "total_count = user_input[\"meat_count\"] + user_input[\"veg_count\"] + user_input[\"seafood_count\"]\n",
    "\n",
    "# 고기를 제일 많이 먹은 사람에게 또 고기 메뉴를 추천하는 것을 방지하기 위해 가중치 부여\n",
    "meat_weight = (max_count - user_input[\"meat_count\"]) / total_count if total_count != 0 else 1\n",
    "veg_weight = (max_count - user_input[\"veg_count\"]) / total_count if total_count != 0 else 1\n",
    "seafood_weight = (max_count - user_input[\"seafood_count\"]) / total_count if total_count != 0 else 1"
   ]
  },
  {
   "cell_type": "code",
   "execution_count": 27,
   "metadata": {},
   "outputs": [],
   "source": [
    "# 칼로리 및 탄단지를 기준으로 음식을 추천하기 때문에 가중치 계산\n",
    "cal_score = 1 - abs(df[\"에너지(kcal)\"] - user_input[\"remaining_calories\"]) / user_input[\"remaining_calories\"]\n",
    "carb_score = 1 - abs(df[\"탄수화물(g)\"] - user_input[\"remaining_carbs\"]) / user_input[\"remaining_carbs\"]\n",
    "protein_score = 1 - abs(df[\"단백질(g)\"] - user_input[\"remaining_protein\"])/ user_input[\"remaining_protein\"]\n",
    "fat_score = 1 - abs(df[\"지방(g)\"] - user_input[\"remaining_fat\"])/ user_input[\"remaining_fat\"]\n",
    "\n",
    "# 고기, 채소, 해산물 섭취 횟수를 기반으로 가중치 합계 계산\n",
    "category_weight = (\n",
    "    df[\"고기\"] * meat_weight\n",
    "    + df[\"채소\"] * veg_weight\n",
    "    + df[\"해산물\"] * seafood_weight\n",
    ")\n",
    "\n",
    "# 고기,채소,해산물 섭취 횟수와 칼로리 및 탄단지 가중치 계산 점수를 기반으로 각 음식이 얼마나 적합한지 계산\n",
    "# 칼로리 및 탄단지 가중치 계산 점수에 더 비중을 두기 위해 조금 더 높은 숫자를 곱함\n",
    "df[\"Recommendation_Score\"] = 0.62 * (cal_score + carb_score + protein_score + fat_score) / 4 + 0.38 * category_weight"
   ]
  },
  {
   "cell_type": "code",
   "execution_count": 29,
   "metadata": {},
   "outputs": [],
   "source": [
    "def food_recommendation(user_input):\n",
    "\n",
    "    # 남는 칼로리와 탄단지량\n",
    "    remaining_calories = user_input[\"remaining_calories\"]\n",
    "    remaining_carbs = user_input[\"remaining_carbs\"]\n",
    "    remaining_protein = user_input[\"remaining_protein\"]\n",
    "    remaining_fat = user_input[\"remaining_fat\"]\n",
    "\n",
    "    # 추천 점수와 칼로리를 기반으로 데이터셋 추천 음식 목록 데이터셋 정렬\n",
    "    sorted_foods = df.sort_values(by=[\"Recommendation_Score\", \"에너지(kcal)\"], ascending=[False, True])\n",
    "\n",
    "    selected_foods = []\n",
    "    total_calories, total_carbs, total_protein, total_fat = 0, 0, 0, 0\n",
    "\n",
    "    for _, row in sorted_foods.iterrows():\n",
    "        food_calories = row[\"에너지(kcal)\"]\n",
    "        food_carbs = row[\"탄수화물(g)\"]\n",
    "        food_protein = row[\"단백질(g)\"]\n",
    "        food_fat = row[\"지방(g)\"]\n",
    "\n",
    "        if (\n",
    "            total_calories + food_calories <= remaining_calories\n",
    "            and total_carbs + food_carbs <= remaining_carbs\n",
    "            and total_protein + food_protein <= remaining_protein\n",
    "            and total_fat + food_fat <= remaining_fat\n",
    "        ): \n",
    "            # 만약 더 섭취할 수 있는 영양소량보다 기존 섭취 영양소량 + 현재 음식 섭취 시 영양소량이 작거나 같을 때만\n",
    "            # (= 하루 권장 섭취량을 넘어가지 않는 선에서 음식 추천)\n",
    "            selected_foods.append(row[\"음 식 명\"])\n",
    "            total_calories += food_calories\n",
    "            total_carbs += food_carbs\n",
    "            total_protein += food_protein\n",
    "            total_fat += food_fat\n",
    "\n",
    "    # 가장 추천점수가 높은 음식명 반환\n",
    "    return [selected_foods[0]] if selected_foods else [\"No food found\"]"
   ]
  },
  {
   "cell_type": "code",
   "execution_count": 30,
   "metadata": {},
   "outputs": [],
   "source": [
    "def get_recommendation0(user_input: dict):\n",
    "    return food_recommendation(user_input)"
   ]
  },
  {
   "cell_type": "code",
   "execution_count": 31,
   "metadata": {},
   "outputs": [
    {
     "data": {
      "text/plain": [
       "['연어 샐러드          ']"
      ]
     },
     "execution_count": 31,
     "metadata": {},
     "output_type": "execute_result"
    }
   ],
   "source": [
    "get_recommendation0(user_input)"
   ]
  }
 ],
 "metadata": {
  "kernelspec": {
   "display_name": "Python 3",
   "language": "python",
   "name": "python3"
  },
  "language_info": {
   "codemirror_mode": {
    "name": "ipython",
    "version": 3
   },
   "file_extension": ".py",
   "mimetype": "text/x-python",
   "name": "python",
   "nbconvert_exporter": "python",
   "pygments_lexer": "ipython3",
   "version": "3.10.11"
  }
 },
 "nbformat": 4,
 "nbformat_minor": 2
}
