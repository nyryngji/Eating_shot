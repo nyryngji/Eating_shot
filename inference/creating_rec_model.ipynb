{
 "cells": [
  {
   "cell_type": "markdown",
   "metadata": {},
   "source": [
    "# preparing data"
   ]
  },
  {
   "cell_type": "code",
   "execution_count": 1,
   "metadata": {
    "ExecuteTime": {
     "end_time": "2024-10-27T04:48:19.378529Z",
     "start_time": "2024-10-27T04:48:19.363378Z"
    }
   },
   "outputs": [],
   "source": [
    "import pandas as pd\n",
    "from sklearn.model_selection import train_test_split\n",
    "\n",
    "# 이전:  음 식 명,에너지(kcal),탄수화물(g),단백질(g),지방(g),고기,채소,해산물\n",
    "# i've merged two files: food_calories.csv and food_calories2.csv(more diabetes-friendly foods)\n",
    "\n",
    "df = pd.read_csv('food_calories.csv', encoding='utf-8')\n",
    "\n",
    "# 데이터프레임에 당뇨 위험 분류 열 추가 (0: 위험, 1: 중간, 2: 안전) 멀티클래스 분류\n",
    "\n",
    "high_carb_threshold = 50  # grams\n",
    "moderate_carb_threshold = (30, 50)  # grams range for moderate carbs\n",
    "low_carb_threshold = 30  # grams\n",
    "\n",
    "high_calorie_threshold = 300  # kcal\n",
    "moderate_calorie_threshold = (100, 200)  # kcal range for moderate calories\n",
    "low_calorie_threshold = 100  # kcal\n",
    "\n",
    "balanced_protein_range = (5, 15)  # acceptable range for balanced protein\n",
    "\n",
    "\n",
    "def classify_diabetes_friendliness(row):\n",
    "    \"\"\"\n",
    "    Classify the diabetes-friendliness of a food item based on its carbohydrate, calorie, and protein content.\n",
    "    \n",
    "    - High Risk: High carb content (> 50g, in this case) or high calorie content (> 300 kcal, in this case)\n",
    "    - Moderate Risk: Moderate carb content (30-50g, in this case) and moderate calorie content (100-200 kcal, in this\n",
    "     case)\n",
    "    - Low Risk: Low carb content (< 30g, in this case), low calorie content (< 100 kcal, in this case), and balanced \n",
    "    protein (5-15g, in this case)\n",
    "    \n",
    "    :param row: \n",
    "    :return: 0 for High Risk, 1 for Moderate Risk, 2 for Low Risk\n",
    "    \"\"\"\n",
    "    if row['탄수화물(g)'] > high_carb_threshold or row['에너지(kcal)'] > high_calorie_threshold:\n",
    "        return 0  # High Risk (least diabetes-friendly)\n",
    "    elif (\n",
    "            moderate_carb_threshold[0] <= row['탄수화물(g)'] <= moderate_carb_threshold[1] and\n",
    "            moderate_calorie_threshold[0] <= row['에너지(kcal)'] <= moderate_calorie_threshold[1]\n",
    "    ):\n",
    "        return 1  # Moderate Risk (moderately diabetes-friendly)\n",
    "    elif (\n",
    "            row['탄수화물(g)'] < low_carb_threshold and\n",
    "            row['에너지(kcal)'] < low_calorie_threshold and\n",
    "            balanced_protein_range[0] <= row['단백질(g)'] <= balanced_protein_range[1]\n",
    "    ):\n",
    "        return 2  # Low Risk (most diabetes-friendly)\n",
    "    else:\n",
    "        return 1  # Default to moderate risk if criteria are partially met\n",
    "\n",
    "\n",
    "df['Diabetes_Friendliness'] = df.apply(classify_diabetes_friendliness, axis=1)\n",
    "# save the data\n",
    "df.to_csv('food_calories1-2.csv', index=False)\n",
    "\n",
    "X = df[['에너지(kcal)', '탄수화물(g)', '단백질(g)', '지방(g)', '고기', '채소', '해산물']]  # will adding 고기 채소 해산물 make sense?\n",
    "# y = df['당뇨 위험 분류']\n",
    "# y = df['음 식 명'].index\n",
    "y = df['Diabetes_Friendliness']\n",
    "\n",
    "# preparation for training and testing\n",
    "X_train, X_test, y_train, y_test = train_test_split(X, y, test_size=0.34, random_state=42)\n"
   ]
  },
  {
   "cell_type": "markdown",
   "metadata": {},
   "source": [
    "# 'least dangerous food for diabetes' prediction"
   ]
  },
  {
   "cell_type": "code",
   "execution_count": 3,
   "metadata": {
    "ExecuteTime": {
     "end_time": "2024-10-27T04:48:23.316794Z",
     "start_time": "2024-10-27T04:48:22.994431Z"
    }
   },
   "outputs": [
    {
     "name": "stdout",
     "output_type": "stream",
     "text": [
      "Random Forest Accuracy: 0.9294117647058824\n",
      "Classification Report:\n",
      "               precision    recall  f1-score   support\n",
      "\n",
      "           0       0.97      0.97      0.97        73\n",
      "           1       0.92      0.94      0.93        87\n",
      "           2       0.62      0.50      0.56        10\n",
      "\n",
      "    accuracy                           0.93       170\n",
      "   macro avg       0.84      0.81      0.82       170\n",
      "weighted avg       0.93      0.93      0.93       170\n",
      "\n",
      "Input Data:\n",
      "432      돼지고기 편육\n",
      "197          닭갈비\n",
      "388           쑥떡\n",
      "455    토마토 계란 볶음\n",
      "Name: 음식명, dtype: object \n",
      "\n",
      "Least Dangerous Food for Diabetes:\n",
      "에너지(kcal)    150.0\n",
      "탄수화물(g)        7.0\n",
      "단백질(g)         8.0\n",
      "지방(g)         10.0\n",
      "고기             0.0\n",
      "채소             1.0\n",
      "해산물            0.0\n",
      "Name: 455, dtype: float64\n"
     ]
    }
   ],
   "source": [
    "import numpy as np\n",
    "from sklearn.preprocessing import MinMaxScaler, StandardScaler\n",
    "from sklearn.ensemble import RandomForestClassifier\n",
    "from sklearn.metrics import accuracy_score, classification_report\n",
    "from sklearn.neighbors import KNeighborsClassifier\n",
    "from sklearn.svm import SVC\n",
    "from sklearn.linear_model import LogisticRegression\n",
    "from sklearn.neural_network import MLPClassifier\n",
    "\n",
    "# Scale the training data (this is important!)\n",
    "# scaler = MinMaxScaler()\n",
    "scaler = StandardScaler()\n",
    "X_train_scaled = scaler.fit_transform(X_train)\n",
    "X_test_scaled = scaler.transform(X_test)\n",
    "\n",
    "# Train\n",
    "# model = RandomForestClassifier(\n",
    "#     n_estimators=100,\n",
    "#     random_state=42,\n",
    "#     class_weight='balanced'\n",
    "# )\n",
    "# model = LogisticRegression(max_iter=1000, random_state=42)\n",
    "model = MLPClassifier(hidden_layer_sizes=(64, 32), max_iter=1000)\n",
    "model.fit(X_train_scaled, y_train)\n",
    "\n",
    "# Evaluate\n",
    "y_pred = model.predict(X_test_scaled)\n",
    "print(\"Random Forest Accuracy:\", accuracy_score(y_test, y_pred))\n",
    "print(\"Classification Report:\\n\", classification_report(y_test, y_pred))\n",
    "\n",
    "# Prepare multiple inputs (actual food data from training)\n",
    "# randomly select n food items from the training set\n",
    "import random\n",
    "\n",
    "random.seed(0)\n",
    "\n",
    "input_data = X.iloc[\n",
    "    [random.randint(0, len(X) - 1) for _ in range(4)]\n",
    "]\n",
    "\n",
    "# print the food name of the input_data\n",
    "print(\"Input Data:\")\n",
    "print(df.loc[input_data.index, '음식명'], '\\n')\n",
    "# print(df.iloc[input_data.index, 0], '\\n')  # changing to iloc due to name with space on the first column\n",
    "\n",
    "input_data_scaled = scaler.transform(input_data)\n",
    "\n",
    "# predict probabilities for each class\n",
    "predictions = model.predict_proba(input_data_scaled)\n",
    "\n",
    "# finding for class 2 (most diabetes-friendly)\n",
    "friendly_class_index = np.argmax(model.classes_ == 2)  # Find index of the \"most diabetes-friendly\" class (argmax)\n",
    "least_dangerous_food_index = np.argmax(predictions[:, friendly_class_index])\n",
    "\n",
    "# Get the least dangerous food item details\n",
    "least_dangerous_food = input_data.iloc[least_dangerous_food_index]\n",
    "print(\"Least Dangerous Food for Diabetes:\")\n",
    "print(least_dangerous_food)"
   ]
  },
  {
   "cell_type": "code",
   "execution_count": 4,
   "metadata": {
    "ExecuteTime": {
     "end_time": "2024-10-27T04:48:25.054171Z",
     "start_time": "2024-10-27T04:48:25.044814Z"
    }
   },
   "outputs": [
    {
     "data": {
      "text/plain": [
       "['./recommend_food.joblib']"
      ]
     },
     "execution_count": 4,
     "metadata": {},
     "output_type": "execute_result"
    }
   ],
   "source": [
    "## begin save the model\n",
    "import joblib\n",
    "\n",
    "joblib.dump(model, './recommend_food.joblib')\n",
    "## end save the model"
   ]
  },
  {
   "cell_type": "markdown",
   "metadata": {},
   "source": [
    "# closest food match "
   ]
  },
  {
   "cell_type": "code",
   "execution_count": 5,
   "metadata": {
    "ExecuteTime": {
     "end_time": "2024-10-27T04:48:27.545256Z",
     "start_time": "2024-10-27T04:48:27.538021Z"
    }
   },
   "outputs": [
    {
     "name": "stdout",
     "output_type": "stream",
     "text": [
      "Closest Food Match:\n",
      "음식명          육회비빔밥\n",
      "에너지(kcal)    588.0\n",
      "탄수화물(g)       82.0\n",
      "단백질(g)        28.0\n",
      "지방(g)         16.0\n",
      "고기             1.0\n",
      "채소             1.0\n",
      "해산물            0.0\n",
      "Name: 19, dtype: object\n"
     ]
    }
   ],
   "source": [
    "from scipy.spatial.distance import cdist\n",
    "\n",
    "# Normalize the dataset and user input to the same scale\n",
    "scaler = StandardScaler()\n",
    "normalized_data = scaler.fit_transform(df[[\n",
    "    # '에너지(kcal)', \n",
    "    '탄수화물(g)', '단백질(g)', '지방(g)', '고기', '채소', '해산물']])\n",
    "\n",
    "# find food within this dataset that is closest to a food where it...\n",
    "user_input2 = {\n",
    "    # '에너지(kcal)': 1000,  # has 1000 kcal\n",
    "    '탄수화물(g)': 50,  # has 50g of carbs\n",
    "    '단백질(g)': 30,  # has 30g of protein\n",
    "    '지방(g)': 20,  # has 20g of fat\n",
    "    '고기': 1.0,  # is a meat dish\n",
    "    '채소': 1.0,  # is a vegetable dish\n",
    "    '해산물': 0.0  # is not a seafood dish\n",
    "}\n",
    "user_df = pd.DataFrame([user_input2])\n",
    "normalized_user_input = scaler.transform(user_df)\n",
    "\n",
    "# Calculate the Euclidean distance between the normalized user input and each food item\n",
    "# distances = cdist(normalized_user_input, normalized_data, metric='euclidean')\n",
    "distances = np.linalg.norm(normalized_data - normalized_user_input, axis=1)\n",
    "\n",
    "# Find the index of the closest food item\n",
    "closest_food_index = distances.argmin()\n",
    "\n",
    "# Retrieve the closest food item information\n",
    "closest_food = df.iloc[closest_food_index]\n",
    "print(\"Closest Food Match:\")\n",
    "print(closest_food[['음식명', '에너지(kcal)', '탄수화물(g)', '단백질(g)', '지방(g)', '고기', '채소', '해산물']])\n"
   ]
  },
  {
   "cell_type": "markdown",
   "metadata": {},
   "source": [
    "# food recommendation"
   ]
  },
  {
   "cell_type": "code",
   "execution_count": 6,
   "metadata": {
    "ExecuteTime": {
     "end_time": "2024-10-27T04:48:30.089506Z",
     "start_time": "2024-10-27T04:48:30.070383Z"
    }
   },
   "outputs": [
    {
     "data": {
      "text/html": [
       "<div>\n",
       "<style scoped>\n",
       "    .dataframe tbody tr th:only-of-type {\n",
       "        vertical-align: middle;\n",
       "    }\n",
       "\n",
       "    .dataframe tbody tr th {\n",
       "        vertical-align: top;\n",
       "    }\n",
       "\n",
       "    .dataframe thead th {\n",
       "        text-align: right;\n",
       "    }\n",
       "</style>\n",
       "<table border=\"1\" class=\"dataframe\">\n",
       "  <thead>\n",
       "    <tr style=\"text-align: right;\">\n",
       "      <th></th>\n",
       "      <th>음식명</th>\n",
       "      <th>에너지(kcal)</th>\n",
       "      <th>탄수화물(g)</th>\n",
       "      <th>단백질(g)</th>\n",
       "      <th>지방(g)</th>\n",
       "      <th>고기</th>\n",
       "      <th>채소</th>\n",
       "      <th>해산물</th>\n",
       "      <th>Recommendation_Score</th>\n",
       "    </tr>\n",
       "  </thead>\n",
       "  <tbody>\n",
       "    <tr>\n",
       "      <th>409</th>\n",
       "      <td>청경채소 불고기</td>\n",
       "      <td>250.0</td>\n",
       "      <td>1.0</td>\n",
       "      <td>25.0</td>\n",
       "      <td>20.0</td>\n",
       "      <td>1.0</td>\n",
       "      <td>1.0</td>\n",
       "      <td>0.0</td>\n",
       "      <td>0.758781</td>\n",
       "    </tr>\n",
       "    <tr>\n",
       "      <th>452</th>\n",
       "      <td>연어 샐러드</td>\n",
       "      <td>250.0</td>\n",
       "      <td>10.0</td>\n",
       "      <td>20.0</td>\n",
       "      <td>15.0</td>\n",
       "      <td>0.0</td>\n",
       "      <td>1.0</td>\n",
       "      <td>1.0</td>\n",
       "      <td>0.732204</td>\n",
       "    </tr>\n",
       "    <tr>\n",
       "      <th>463</th>\n",
       "      <td>닭고기 채소 볶음</td>\n",
       "      <td>240.0</td>\n",
       "      <td>15.0</td>\n",
       "      <td>20.0</td>\n",
       "      <td>10.0</td>\n",
       "      <td>1.0</td>\n",
       "      <td>1.0</td>\n",
       "      <td>0.0</td>\n",
       "      <td>0.718861</td>\n",
       "    </tr>\n",
       "    <tr>\n",
       "      <th>498</th>\n",
       "      <td>훈제 연어 샐러드</td>\n",
       "      <td>200.0</td>\n",
       "      <td>0.0</td>\n",
       "      <td>22.0</td>\n",
       "      <td>12.0</td>\n",
       "      <td>0.0</td>\n",
       "      <td>1.0</td>\n",
       "      <td>1.0</td>\n",
       "      <td>0.715847</td>\n",
       "    </tr>\n",
       "    <tr>\n",
       "      <th>408</th>\n",
       "      <td>닭가슴살 양파볶음</td>\n",
       "      <td>176.0</td>\n",
       "      <td>6.1</td>\n",
       "      <td>24.0</td>\n",
       "      <td>5.4</td>\n",
       "      <td>1.0</td>\n",
       "      <td>1.0</td>\n",
       "      <td>0.0</td>\n",
       "      <td>0.709294</td>\n",
       "    </tr>\n",
       "    <tr>\n",
       "      <th>...</th>\n",
       "      <td>...</td>\n",
       "      <td>...</td>\n",
       "      <td>...</td>\n",
       "      <td>...</td>\n",
       "      <td>...</td>\n",
       "      <td>...</td>\n",
       "      <td>...</td>\n",
       "      <td>...</td>\n",
       "      <td>...</td>\n",
       "    </tr>\n",
       "    <tr>\n",
       "      <th>364</th>\n",
       "      <td>양파장아찌</td>\n",
       "      <td>39.0</td>\n",
       "      <td>7.0</td>\n",
       "      <td>1.0</td>\n",
       "      <td>0.0</td>\n",
       "      <td>0.0</td>\n",
       "      <td>0.0</td>\n",
       "      <td>0.0</td>\n",
       "      <td>0.019656</td>\n",
       "    </tr>\n",
       "    <tr>\n",
       "      <th>347</th>\n",
       "      <td>동치미</td>\n",
       "      <td>14.0</td>\n",
       "      <td>4.0</td>\n",
       "      <td>1.0</td>\n",
       "      <td>0.0</td>\n",
       "      <td>0.0</td>\n",
       "      <td>0.0</td>\n",
       "      <td>0.0</td>\n",
       "      <td>0.013055</td>\n",
       "    </tr>\n",
       "    <tr>\n",
       "      <th>346</th>\n",
       "      <td>나박김치</td>\n",
       "      <td>15.0</td>\n",
       "      <td>2.0</td>\n",
       "      <td>1.0</td>\n",
       "      <td>0.0</td>\n",
       "      <td>0.0</td>\n",
       "      <td>0.0</td>\n",
       "      <td>0.0</td>\n",
       "      <td>0.010669</td>\n",
       "    </tr>\n",
       "    <tr>\n",
       "      <th>368</th>\n",
       "      <td>단무지</td>\n",
       "      <td>13.0</td>\n",
       "      <td>2.0</td>\n",
       "      <td>0.0</td>\n",
       "      <td>1.0</td>\n",
       "      <td>0.0</td>\n",
       "      <td>0.0</td>\n",
       "      <td>0.0</td>\n",
       "      <td>0.007673</td>\n",
       "    </tr>\n",
       "    <tr>\n",
       "      <th>185</th>\n",
       "      <td>도미찜</td>\n",
       "      <td>632.0</td>\n",
       "      <td>4.0</td>\n",
       "      <td>105.0</td>\n",
       "      <td>18.0</td>\n",
       "      <td>0.0</td>\n",
       "      <td>0.0</td>\n",
       "      <td>1.0</td>\n",
       "      <td>-0.097947</td>\n",
       "    </tr>\n",
       "  </tbody>\n",
       "</table>\n",
       "<p>499 rows × 9 columns</p>\n",
       "</div>"
      ],
      "text/plain": [
       "           음식명  에너지(kcal)  탄수화물(g)  단백질(g)  지방(g)   고기   채소  해산물  \\\n",
       "409   청경채소 불고기      250.0      1.0    25.0   20.0  1.0  1.0  0.0   \n",
       "452     연어 샐러드      250.0     10.0    20.0   15.0  0.0  1.0  1.0   \n",
       "463  닭고기 채소 볶음      240.0     15.0    20.0   10.0  1.0  1.0  0.0   \n",
       "498  훈제 연어 샐러드      200.0      0.0    22.0   12.0  0.0  1.0  1.0   \n",
       "408  닭가슴살 양파볶음      176.0      6.1    24.0    5.4  1.0  1.0  0.0   \n",
       "..         ...        ...      ...     ...    ...  ...  ...  ...   \n",
       "364      양파장아찌       39.0      7.0     1.0    0.0  0.0  0.0  0.0   \n",
       "347        동치미       14.0      4.0     1.0    0.0  0.0  0.0  0.0   \n",
       "346       나박김치       15.0      2.0     1.0    0.0  0.0  0.0  0.0   \n",
       "368        단무지       13.0      2.0     0.0    1.0  0.0  0.0  0.0   \n",
       "185        도미찜      632.0      4.0   105.0   18.0  0.0  0.0  1.0   \n",
       "\n",
       "     Recommendation_Score  \n",
       "409              0.758781  \n",
       "452              0.732204  \n",
       "463              0.718861  \n",
       "498              0.715847  \n",
       "408              0.709294  \n",
       "..                    ...  \n",
       "364              0.019656  \n",
       "347              0.013055  \n",
       "346              0.010669  \n",
       "368              0.007673  \n",
       "185             -0.097947  \n",
       "\n",
       "[499 rows x 9 columns]"
      ]
     },
     "execution_count": 6,
     "metadata": {},
     "output_type": "execute_result"
    }
   ],
   "source": [
    "# User input for remaining nutritional intake and food category counts\n",
    "user_input = {\n",
    "    'remaining_calories': 983,  # in kcal\n",
    "    'remaining_carbs': 50,  # in grams\n",
    "    'remaining_protein': 20,  # in grams\n",
    "    'remaining_fat': 15,  # in grams\n",
    "\n",
    "    'meat_count': 2,  # number of meat servings consumed\n",
    "    'veg_count': 1,  # number of vegetable servings consumed\n",
    "    'seafood_count': 0  # number of seafood servings consumed\n",
    "}\n",
    "user_input = {'remaining_calories': 1359, 'remaining_carbs': 124, 'remaining_protein': 24, 'remaining_fat': 42,\n",
    "              'meat_count': 0, 'veg_count': 0, 'seafood_count': 0}\n",
    "\n",
    "# based on the manual.txt...\n",
    "max_count = max(user_input['meat_count'], user_input['veg_count'], user_input['seafood_count'])\n",
    "total_count = user_input['meat_count'] + user_input['veg_count'] + user_input['seafood_count']\n",
    "\n",
    "# felt the need to use these as weights (meat, veg, seafood)\n",
    "meat_weight = (max_count - user_input['meat_count']) / total_count if total_count != 0 else 1\n",
    "veg_weight = (max_count - user_input['veg_count']) / total_count if total_count != 0 else 1\n",
    "seafood_weight = (max_count - user_input['seafood_count']) / total_count if total_count != 0 else 1\n",
    "\n",
    "\n",
    "def calculate_score(row):\n",
    "    \"\"\"\n",
    "    Calculate a recommendation score for a food item based on its nutritional content and category preferences.\n",
    "    \n",
    "    First, we calculate the nutritional score for calories, carbs, protein, and fat based on the user's remaining intake.\n",
    "    \n",
    "    cal_score = 1 - abs(calories - remaining_calories) / remaining_calories\n",
    "    carb_score = 1 - abs(carbs - remaining_carbs) / remaining_carbs\n",
    "    protein_score = 1 - abs(protein - remaining_protein) / remaining_protein\n",
    "    fat_score = 1 - abs(fat - remaining_fat) / remaining_fat\n",
    "    \n",
    "    Second, we calculate the category preference weight based on the food item's category counts.\n",
    "    \n",
    "    category_weight = (meat_count * meat_weight + veg_count * veg_weight + seafood_count * seafood_weight)\n",
    "    \n",
    "    Finally, we combine the nutritional score and category weight to get the recommendation score.\n",
    "    \n",
    "    score = 0.64 * (cal_score + carb_score + protein_score + fat_score) / 4 + 0.46 * category_weight\n",
    "    (you can adjust the weights based on the importance of nutritional fit vs. category preference)\n",
    "    \n",
    "    :param row: \n",
    "    :return: the recommendation score for the food item\n",
    "    \"\"\"\n",
    "    # Nutritional score\n",
    "    cal_score = 1 - abs(row['에너지(kcal)'] - user_input['remaining_calories']) / user_input['remaining_calories']\n",
    "    carb_score = 1 - abs(row['탄수화물(g)'] - user_input['remaining_carbs']) / user_input['remaining_carbs']\n",
    "    protein_score = 1 - abs(row['단백질(g)'] - user_input['remaining_protein']) / user_input['remaining_protein']\n",
    "    fat_score = 1 - abs(row['지방(g)'] - user_input['remaining_fat']) / user_input['remaining_fat']\n",
    "\n",
    "    # Category preference weight\n",
    "    category_weight = (\n",
    "            row['고기'] * meat_weight +\n",
    "            row['채소'] * veg_weight +\n",
    "            row['해산물'] * seafood_weight\n",
    "    )\n",
    "\n",
    "    # add in diabetes friendliness as a factor\n",
    "    category_weight = category_weight * (row['Diabetes_Friendliness'] + 1) / 3\n",
    "\n",
    "    # adjust the weights on your preference\n",
    "    return 0.62 * (cal_score + carb_score + protein_score + fat_score) / 4 + 0.38 * category_weight\n",
    "\n",
    "\n",
    "df['Recommendation_Score'] = df.apply(calculate_score, axis=1)\n",
    "\n",
    "recommended_foods = df.sort_values(by='Recommendation_Score', ascending=False)\n",
    "\n",
    "recommended_foods[['음식명', '에너지(kcal)', '탄수화물(g)', '단백질(g)', '지방(g)', '고기', '채소', '해산물', 'Recommendation_Score']]\n"
   ]
  },
  {
   "cell_type": "markdown",
   "metadata": {},
   "source": [
    "# food recommendation with constraints"
   ]
  },
  {
   "cell_type": "code",
   "execution_count": 7,
   "metadata": {
    "ExecuteTime": {
     "end_time": "2024-10-27T04:48:32.724367Z",
     "start_time": "2024-10-27T04:48:32.709875Z"
    }
   },
   "outputs": [
    {
     "name": "stdout",
     "output_type": "stream",
     "text": [
      "Selected Foods for User:\n",
      "['연어 샐러드', '배추전', '도토리묵', '청경채나물', '단무지']\n",
      "Total Calories: 482.0, Total Carbs: 47.0, Total Protein: 24.0, Total Fat: 24.0\n"
     ]
    }
   ],
   "source": [
    "remaining_calories = user_input['remaining_calories']\n",
    "remaining_carbs = user_input['remaining_carbs']\n",
    "remaining_protein = user_input['remaining_protein']\n",
    "remaining_fat = user_input['remaining_fat']\n",
    "\n",
    "# Sort foods by diabetes-friendliness and calorie efficiency\n",
    "sorted_foods = df.sort_values(by=['Recommendation_Score', '에너지(kcal)'], ascending=[False, True])\n",
    "\n",
    "# Initialize list to store selected foods and track total nutrients\n",
    "selected_foods = []\n",
    "total_calories, total_carbs, total_protein, total_fat = 0, 0, 0, 0\n",
    "\n",
    "# greedy approach: add foods to the list until we reach the nutrient limits\n",
    "# higher recommendation score foods are selected first, starting from lowest calorie foods\n",
    "for _, row in sorted_foods.iterrows():\n",
    "    food_calories = row['에너지(kcal)']\n",
    "    food_carbs = row['탄수화물(g)']\n",
    "    food_protein = row['단백질(g)']\n",
    "    food_fat = row['지방(g)']\n",
    "\n",
    "    # Check if adding this food will exceed remaining allowances\n",
    "    if (\n",
    "            total_calories + food_calories <= remaining_calories and\n",
    "            total_carbs + food_carbs <= remaining_carbs and\n",
    "            total_protein + food_protein <= remaining_protein and\n",
    "            total_fat + food_fat <= remaining_fat\n",
    "    ):\n",
    "        # Add food to selected list and update totals\n",
    "        selected_foods.append(row['음식명'])\n",
    "        total_calories += food_calories\n",
    "        total_carbs += food_carbs\n",
    "        total_protein += food_protein\n",
    "        total_fat += food_fat\n",
    "\n",
    "print(\"Selected Foods for User:\")\n",
    "print(selected_foods)\n",
    "print(\n",
    "    f\"Total Calories: {total_calories}, Total Carbs: {total_carbs}, Total Protein: {total_protein}, Total Fat: {total_fat}\")\n"
   ]
  },
  {
   "cell_type": "markdown",
   "metadata": {},
   "source": [
    "# dynamic programming (can be resource intensive, just for demonstration)"
   ]
  },
  {
   "cell_type": "code",
   "execution_count": 16,
   "metadata": {
    "ExecuteTime": {
     "end_time": "2024-10-27T04:31:39.738173Z",
     "start_time": "2024-10-27T04:31:39.375799Z"
    }
   },
   "outputs": [
    {
     "name": "stdout",
     "output_type": "stream",
     "text": [
      "Selected Foods for User:\n",
      "['청경채나물', '배추김치', '콩나물국', '알타리무김치', '도토리묵', '오이소박이', '무생채', '오이무침', '당근 샐러드', '청포묵 무침', '오이소박이', '미역초무침', '가지나물', '시금치 된장무침', '오이생채', '채소 주스', '콩나물국', '파래무침', '무생채', '토마토 바질 샐러드', '미역초무침', '숙주나물', '명이나물 간장절임', '시금치무침', '콩나물', '우거지된장국', '해파리냉채', '미역오이냉국', '홍합미역국', '시래기된장국', '오징어젓갈', '양배추밥']\n"
     ]
    }
   ],
   "source": [
    "import numpy as np\n",
    "\n",
    "# Initialize DP table\n",
    "max_calories = remaining_calories\n",
    "n = len(sorted_foods)\n",
    "dp = np.zeros((n + 1, max_calories + 1))\n",
    "\n",
    "# Fill DP table\n",
    "for i in range(1, n + 1):\n",
    "    food_calories = sorted_foods.iloc[i - 1]['에너지(kcal)'].astype(int)\n",
    "    friendliness_score = sorted_foods.iloc[i - 1]['Recommendation_Score']\n",
    "    for j in range(1, max_calories + 1):\n",
    "        if food_calories <= j:\n",
    "            dp[i][j] = max(dp[i - 1][j], dp[i - 1][j - food_calories] + friendliness_score)\n",
    "        else:\n",
    "            dp[i][j] = dp[i - 1][j]\n",
    "\n",
    "# Backtrack to find selected foods\n",
    "selected_foods = []\n",
    "calorie_limit = max_calories\n",
    "for i in range(n, 0, -1):\n",
    "    if dp[i][calorie_limit] != dp[i - 1][calorie_limit]:\n",
    "        selected_foods.append(sorted_foods.iloc[i - 1]['음식명'])\n",
    "        calorie_limit -= sorted_foods.iloc[i - 1]['에너지(kcal)'].astype(int)\n",
    "\n",
    "print(\"Selected Foods for User:\")\n",
    "print(selected_foods)"
   ]
  },
  {
   "cell_type": "markdown",
   "metadata": {},
   "source": [
    "# unused failed attempts"
   ]
  },
  {
   "cell_type": "code",
   "execution_count": null,
   "metadata": {},
   "outputs": [],
   "source": [
    "\n",
    "\n",
    "# Support Vector Machine\n",
    "svm_model = SVC(decision_function_shape='ovr')  # 'ovr' is one-vs-rest, which works for multi-class\n",
    "svm_model.fit(X_train, y_train)\n",
    "y_pred = svm_model.predict(X_test)\n",
    "print(\"SVM Accuracy:\", accuracy_score(y_test, y_pred))\n",
    "print(\"Classification Report:\\n\", classification_report(y_test, y_pred))\n",
    "\n",
    "# Logistic Regression\n",
    "log_reg_model = LogisticRegression(max_iter=1000, random_state=42)\n",
    "log_reg_model.fit(X_train, y_train)\n",
    "y_pred = log_reg_model.predict(X_test)\n",
    "print(\"Logistic Regression Accuracy:\", accuracy_score(y_test, y_pred))\n",
    "print(\"Classification Report:\\n\", classification_report(y_test, y_pred))\n",
    "\n",
    "# K-Nearest Neighbors\n",
    "knn_model = KNeighborsClassifier(n_neighbors=5)\n",
    "knn_model.fit(X_train, y_train)\n",
    "y_pred = knn_model.predict(X_test)\n",
    "print(\"KNN Accuracy:\", accuracy_score(y_test, y_pred))\n",
    "print(\"Classification Report:\\n\", classification_report(y_test, y_pred))\n",
    "\n",
    "# Multi-Layer Perceptron\n",
    "mlp_model = MLPClassifier(hidden_layer_sizes=(64, 32), max_iter=500)\n",
    "mlp_model.fit(X_train, y_train)\n",
    "y_pred = mlp_model.predict(X_test)\n",
    "print(\"MLP Accuracy:\", accuracy_score(y_test, y_pred))\n",
    "print(\"Classification Report:\\n\", classification_report(y_test, y_pred))"
   ]
  },
  {
   "cell_type": "code",
   "execution_count": null,
   "metadata": {},
   "outputs": [],
   "source": [
    "# user_input = {\n",
    "#     '칼로리': 1000,\n",
    "#     '탄수화물': 50,\n",
    "#     '단백질': 30,\n",
    "#     '지방': 43,\n",
    "#     '고기': 1.0,\n",
    "#     '채소': 1.0,\n",
    "#     '해산물': 0.0\n",
    "# }\n",
    "user_input2 = {\n",
    "    '에너지(kcal)': 1000,\n",
    "    '탄수화물(g)': 50,\n",
    "    '단백질(g)': 30,\n",
    "    '지방(g)': 20,\n",
    "    '고기': 1.0,\n",
    "    '채소': 1.0,\n",
    "    '해산물': 0.0\n",
    "}\n",
    "user_df = pd.DataFrame([user_input2])"
   ]
  },
  {
   "cell_type": "code",
   "execution_count": null,
   "metadata": {},
   "outputs": [],
   "source": [
    "df.loc[svm_model.predict(user_df)[0], '음 식 명']"
   ]
  },
  {
   "cell_type": "code",
   "execution_count": null,
   "metadata": {},
   "outputs": [],
   "source": [
    "df.loc[log_reg_model.predict(user_df)[0], '음 식 명']"
   ]
  },
  {
   "cell_type": "code",
   "execution_count": null,
   "metadata": {},
   "outputs": [],
   "source": [
    "df.loc[knn_model.predict(user_df)[0], '음 식 명']"
   ]
  },
  {
   "cell_type": "code",
   "execution_count": null,
   "metadata": {},
   "outputs": [],
   "source": [
    "df.loc[mlp_model.predict(user_df)[0], '음 식 명']"
   ]
  },
  {
   "cell_type": "code",
   "execution_count": null,
   "metadata": {},
   "outputs": [],
   "source": [
    "import joblib\n",
    "\n",
    "# 모델 저장\n",
    "joblib.dump(model, 'recommend_food.joblib')\n",
    "# 모델 불러오기\n",
    "loaded_model = joblib.load('recommend_food.joblib')\n"
   ]
  },
  {
   "cell_type": "code",
   "execution_count": null,
   "metadata": {},
   "outputs": [],
   "source": [
    "\n",
    "\n",
    "# 해당 사람은 이미 800칼로리 섭취하고 고기 1번, 채소 1번 해산물 3번 섭취함\n",
    "\n",
    "# 데이터프레임으로 변환"
   ]
  },
  {
   "cell_type": "code",
   "execution_count": null,
   "metadata": {},
   "outputs": [],
   "source": [
    "# 특성 변수와 대상 변수 정의\n",
    "x = df[['칼로리', '탄수화물', '단백질', '지방', '고기', '채소', '해산물']]\n",
    "y = df['식단 이름']"
   ]
  },
  {
   "cell_type": "code",
   "execution_count": null,
   "metadata": {},
   "outputs": [],
   "source": [
    "\n",
    "\n",
    "model =\n",
    "model.fit(x, y.index)"
   ]
  },
  {
   "cell_type": "code",
   "execution_count": null,
   "metadata": {},
   "outputs": [],
   "source": [
    "df.loc[model.predict(user_df)[0], '식단 이름']"
   ]
  },
  {
   "cell_type": "code",
   "execution_count": null,
   "metadata": {},
   "outputs": [],
   "source": [
    "# 모델 저장\n",
    "import joblib\n",
    "\n",
    "# 모델 저장\n",
    "joblib.dump(model, 'recommend_food.joblib')\n",
    "# 모델 불러오기\n",
    "loaded_model = joblib.load('recommend_food.joblib')\n",
    "\n",
    "# 로드한 모델로 예측\n",
    "predictions = loaded_model.predict(user_df)"
   ]
  },
  {
   "cell_type": "code",
   "execution_count": null,
   "metadata": {},
   "outputs": [],
   "source": [
    "df.loc[model.predict(user_df)[0], '식단 이름']"
   ]
  },
  {
   "cell_type": "markdown",
   "metadata": {},
   "source": [
    "```text\n",
    "- recommend_food_list : \n",
    "당뇨병 환자들을 위한 건강식 목록\n",
    "\n",
    "- 식단 추천 시스템 : \n",
    "decision tree에 recommend_food_list를 학습시킴\n",
    "\n",
    "- user_input \n",
    "칼로리 : 사용자가 먹을 수 있는 잔여 칼로리\n",
    "ex) 하루 권장 섭취 칼로리 : 1800\n",
    "이미 먹은 칼로리가 800이면 1800-800 -> 1000 \n",
    "- 탄단지도 똑같이 남은 것으로 계산\n",
    "- 고기, 채소, 해산물 : 기존에 사용자가 고기를 많이 먹었으면\n",
    "  추천 식단은 해산물 위주로 하기 위해서 설정함\n",
    "->고기 2번, 채소 1번, 해산물 0번 먹었으면 \n",
    "max(고기, 채소, 해산물)에서 각각 먹은 횟수를 뺀 값\n",
    "\n",
    "-> 사용자가 얼마나 고기 채소 해산물을 먹었는지는\n",
    "food_calories.csv 데이터를 반영해서 적용함\n",
    "-> db에 고기, 채소, 해산물정보 추가 필요\n",
    "```\n",
    "\n",
    "\n"
   ]
  }
 ],
 "metadata": {
  "kernelspec": {
   "display_name": "deejeiango-sqJ1Dm_K-py3.10",
   "language": "python",
   "name": "python3"
  },
  "language_info": {
   "codemirror_mode": {
    "name": "ipython",
    "version": 3
   },
   "file_extension": ".py",
   "mimetype": "text/x-python",
   "name": "python",
   "nbconvert_exporter": "python",
   "pygments_lexer": "ipython3",
   "version": "3.10.14"
  }
 },
 "nbformat": 4,
 "nbformat_minor": 2
}
